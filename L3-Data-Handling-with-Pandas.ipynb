{
 "cells": [
  {
   "cell_type": "markdown",
   "metadata": {},
   "source": [
    "# Read-in the Data"
   ]
  },
  {
   "cell_type": "code",
   "execution_count": 1,
   "metadata": {
    "collapsed": true
   },
   "outputs": [],
   "source": [
    "import numpy as np\n",
    "import pandas as pd"
   ]
  },
  {
   "cell_type": "code",
   "execution_count": 2,
   "metadata": {
    "collapsed": false
   },
   "outputs": [
    {
     "data": {
      "text/html": [
       "<div>\n",
       "<style scoped>\n",
       "    .dataframe tbody tr th:only-of-type {\n",
       "        vertical-align: middle;\n",
       "    }\n",
       "\n",
       "    .dataframe tbody tr th {\n",
       "        vertical-align: top;\n",
       "    }\n",
       "\n",
       "    .dataframe thead th {\n",
       "        text-align: right;\n",
       "    }\n",
       "</style>\n",
       "<table border=\"1\" class=\"dataframe\">\n",
       "  <thead>\n",
       "    <tr style=\"text-align: right;\">\n",
       "      <th></th>\n",
       "      <th>year</th>\n",
       "      <th>hare</th>\n",
       "      <th>lynx</th>\n",
       "      <th>carrot</th>\n",
       "    </tr>\n",
       "  </thead>\n",
       "  <tbody>\n",
       "    <tr>\n",
       "      <th>0</th>\n",
       "      <td>1900</td>\n",
       "      <td>30000.0</td>\n",
       "      <td>4000.0</td>\n",
       "      <td>48300</td>\n",
       "    </tr>\n",
       "    <tr>\n",
       "      <th>1</th>\n",
       "      <td>1901</td>\n",
       "      <td>47200.0</td>\n",
       "      <td>6100.0</td>\n",
       "      <td>48200</td>\n",
       "    </tr>\n",
       "    <tr>\n",
       "      <th>2</th>\n",
       "      <td>1902</td>\n",
       "      <td>70200.0</td>\n",
       "      <td>9800.0</td>\n",
       "      <td>41500</td>\n",
       "    </tr>\n",
       "    <tr>\n",
       "      <th>3</th>\n",
       "      <td>1903</td>\n",
       "      <td>77400.0</td>\n",
       "      <td>35200.0</td>\n",
       "      <td>38200</td>\n",
       "    </tr>\n",
       "    <tr>\n",
       "      <th>4</th>\n",
       "      <td>1904</td>\n",
       "      <td>36300.0</td>\n",
       "      <td>59400.0</td>\n",
       "      <td>40600</td>\n",
       "    </tr>\n",
       "  </tbody>\n",
       "</table>\n",
       "</div>"
      ],
      "text/plain": [
       "   year     hare     lynx  carrot\n",
       "0  1900  30000.0   4000.0   48300\n",
       "1  1901  47200.0   6100.0   48200\n",
       "2  1902  70200.0   9800.0   41500\n",
       "3  1903  77400.0  35200.0   38200\n",
       "4  1904  36300.0  59400.0   40600"
      ]
     },
     "execution_count": 2,
     "metadata": {},
     "output_type": "execute_result"
    }
   ],
   "source": [
    "pop_df = pd.read_csv(\"./data/populations.txt\", sep='\\t')\n",
    "pop_df.head(5)"
   ]
  },
  {
   "cell_type": "code",
   "execution_count": 3,
   "metadata": {
    "collapsed": false
   },
   "outputs": [
    {
     "data": {
      "text/plain": [
       "(21, 4)"
      ]
     },
     "execution_count": 3,
     "metadata": {},
     "output_type": "execute_result"
    }
   ],
   "source": [
    "pop_df.shape"
   ]
  },
  {
   "cell_type": "markdown",
   "metadata": {},
   "source": [
    "## YOUR TURN HERE\n",
    "\n",
    "Let us investigate the dataset by checking the number of variables/fetures and observations.\n",
    "\n",
    "**Number of variables/features = number of columns in DF**\n",
    "\n",
    "**Enter value of X below**\n",
    "\n",
    "We have X variables in the dataset.\n",
    "\n",
    "**Number of observations = number of rows in DF**\n",
    "\n",
    "**Enter value of Y below**\n",
    "\n",
    "We have Y observations in the dataset."
   ]
  },
  {
   "cell_type": "markdown",
   "metadata": {},
   "source": [
    "Let us check the names of the variables embedded in the dataset. Note that sometimes we do not have column names (variable names) in the dataset."
   ]
  },
  {
   "cell_type": "code",
   "execution_count": 4,
   "metadata": {
    "collapsed": false
   },
   "outputs": [
    {
     "data": {
      "text/plain": [
       "Index(['year', 'hare', 'lynx', 'carrot'], dtype='object')"
      ]
     },
     "execution_count": 4,
     "metadata": {},
     "output_type": "execute_result"
    }
   ],
   "source": [
    "pop_df.columns"
   ]
  },
  {
   "cell_type": "markdown",
   "metadata": {},
   "source": [
    "We only need the values to feed into the models - we can access the values this way."
   ]
  },
  {
   "cell_type": "code",
   "execution_count": 5,
   "metadata": {
    "collapsed": false
   },
   "outputs": [
    {
     "data": {
      "text/plain": [
       "array([[ 1900., 30000.,  4000., 48300.],\n",
       "       [ 1901., 47200.,  6100., 48200.],\n",
       "       [ 1902., 70200.,  9800., 41500.],\n",
       "       [ 1903., 77400., 35200., 38200.],\n",
       "       [ 1904., 36300., 59400., 40600.],\n",
       "       [ 1905., 20600., 41700., 39800.],\n",
       "       [ 1906., 18100., 19000., 38600.],\n",
       "       [ 1907., 21400., 13000., 42300.],\n",
       "       [ 1908., 22000.,  8300., 44500.],\n",
       "       [ 1909., 25400.,  9100., 42100.],\n",
       "       [ 1910., 27100.,  7400., 46000.],\n",
       "       [ 1911., 40300.,  8000., 46800.],\n",
       "       [ 1912., 57000., 12300., 43800.],\n",
       "       [ 1913., 76600., 19500., 40900.],\n",
       "       [ 1914., 52300., 45700., 39400.],\n",
       "       [ 1915., 19500., 51100., 39000.],\n",
       "       [ 1916., 11200., 29700., 36700.],\n",
       "       [ 1917.,  7600., 15800., 41800.],\n",
       "       [ 1918., 14600.,  9700., 43300.],\n",
       "       [ 1919., 16200., 10100., 41300.],\n",
       "       [ 1920., 24700.,  8600., 47300.]])"
      ]
     },
     "execution_count": 5,
     "metadata": {},
     "output_type": "execute_result"
    }
   ],
   "source": [
    "pop_df.values"
   ]
  },
  {
   "cell_type": "markdown",
   "metadata": {},
   "source": [
    "Data type is also an important characteristic of the data, we can access the data types this way."
   ]
  },
  {
   "cell_type": "code",
   "execution_count": 6,
   "metadata": {
    "collapsed": false
   },
   "outputs": [
    {
     "data": {
      "text/plain": [
       "year        int64\n",
       "hare      float64\n",
       "lynx      float64\n",
       "carrot      int64\n",
       "dtype: object"
      ]
     },
     "execution_count": 6,
     "metadata": {},
     "output_type": "execute_result"
    }
   ],
   "source": [
    "pop_df.dtypes"
   ]
  },
  {
   "cell_type": "markdown",
   "metadata": {},
   "source": [
    "We can access columns (Pandas series) using their labels:"
   ]
  },
  {
   "cell_type": "code",
   "execution_count": 7,
   "metadata": {
    "collapsed": false
   },
   "outputs": [
    {
     "data": {
      "text/plain": [
       "0     30000.0\n",
       "1     47200.0\n",
       "2     70200.0\n",
       "3     77400.0\n",
       "4     36300.0\n",
       "5     20600.0\n",
       "6     18100.0\n",
       "7     21400.0\n",
       "8     22000.0\n",
       "9     25400.0\n",
       "10    27100.0\n",
       "11    40300.0\n",
       "12    57000.0\n",
       "13    76600.0\n",
       "14    52300.0\n",
       "15    19500.0\n",
       "16    11200.0\n",
       "17     7600.0\n",
       "18    14600.0\n",
       "19    16200.0\n",
       "20    24700.0\n",
       "Name: hare, dtype: float64"
      ]
     },
     "execution_count": 7,
     "metadata": {},
     "output_type": "execute_result"
    }
   ],
   "source": [
    "hare_df = pop_df[\"hare\"]\n",
    "hare_df"
   ]
  },
  {
   "cell_type": "markdown",
   "metadata": {},
   "source": [
    "Or alternatively using the label as a property of the dataframe:"
   ]
  },
  {
   "cell_type": "code",
   "execution_count": 8,
   "metadata": {
    "collapsed": false
   },
   "outputs": [
    {
     "data": {
      "text/plain": [
       "0     30000.0\n",
       "1     47200.0\n",
       "2     70200.0\n",
       "3     77400.0\n",
       "4     36300.0\n",
       "5     20600.0\n",
       "6     18100.0\n",
       "7     21400.0\n",
       "8     22000.0\n",
       "9     25400.0\n",
       "10    27100.0\n",
       "11    40300.0\n",
       "12    57000.0\n",
       "13    76600.0\n",
       "14    52300.0\n",
       "15    19500.0\n",
       "16    11200.0\n",
       "17     7600.0\n",
       "18    14600.0\n",
       "19    16200.0\n",
       "20    24700.0\n",
       "Name: hare, dtype: float64"
      ]
     },
     "execution_count": 8,
     "metadata": {},
     "output_type": "execute_result"
    }
   ],
   "source": [
    "pop_df.hare"
   ]
  },
  {
   "cell_type": "markdown",
   "metadata": {},
   "source": [
    "# Data Exploration\n",
    "\n",
    "Data exploration is easier with Pandas."
   ]
  },
  {
   "cell_type": "markdown",
   "metadata": {},
   "source": [
    "The usual numeric operations are available for dataframes or series:"
   ]
  },
  {
   "cell_type": "code",
   "execution_count": 9,
   "metadata": {
    "collapsed": false
   },
   "outputs": [
    {
     "name": "stdout",
     "output_type": "stream",
     "text": [
      "Mean Hare Population:  34080.95238095238\n"
     ]
    }
   ],
   "source": [
    "print (\"Mean Hare Population: \", hare_df.mean())"
   ]
  },
  {
   "cell_type": "code",
   "execution_count": 10,
   "metadata": {
    "collapsed": false
   },
   "outputs": [
    {
     "name": "stdout",
     "output_type": "stream",
     "text": [
      "Mean Populations: \n",
      " hare      34080.952381\n",
      "lynx      20166.666667\n",
      "carrot    42400.000000\n",
      "dtype: float64\n",
      "\n",
      "\n",
      "Standard Deviations: \n",
      " hare      21413.981859\n",
      "lynx      16655.999920\n",
      "carrot     3404.555771\n",
      "dtype: float64\n"
     ]
    }
   ],
   "source": [
    "print (\"Mean Populations: \\n\", pop_df[[\"hare\",\"lynx\",\"carrot\"]].mean())\n",
    "print (\"\\n\")\n",
    "print (\"Standard Deviations: \\n\", pop_df[[\"hare\",\"lynx\",\"carrot\"]].std())"
   ]
  },
  {
   "cell_type": "markdown",
   "metadata": {},
   "source": [
    "The describe() method provides a detailed description of variables:"
   ]
  },
  {
   "cell_type": "code",
   "execution_count": 11,
   "metadata": {
    "collapsed": false
   },
   "outputs": [
    {
     "data": {
      "text/html": [
       "<div>\n",
       "<style scoped>\n",
       "    .dataframe tbody tr th:only-of-type {\n",
       "        vertical-align: middle;\n",
       "    }\n",
       "\n",
       "    .dataframe tbody tr th {\n",
       "        vertical-align: top;\n",
       "    }\n",
       "\n",
       "    .dataframe thead th {\n",
       "        text-align: right;\n",
       "    }\n",
       "</style>\n",
       "<table border=\"1\" class=\"dataframe\">\n",
       "  <thead>\n",
       "    <tr style=\"text-align: right;\">\n",
       "      <th></th>\n",
       "      <th>hare</th>\n",
       "      <th>lynx</th>\n",
       "      <th>carrot</th>\n",
       "    </tr>\n",
       "  </thead>\n",
       "  <tbody>\n",
       "    <tr>\n",
       "      <th>count</th>\n",
       "      <td>21.000000</td>\n",
       "      <td>21.000000</td>\n",
       "      <td>21.000000</td>\n",
       "    </tr>\n",
       "    <tr>\n",
       "      <th>mean</th>\n",
       "      <td>34080.952381</td>\n",
       "      <td>20166.666667</td>\n",
       "      <td>42400.000000</td>\n",
       "    </tr>\n",
       "    <tr>\n",
       "      <th>std</th>\n",
       "      <td>21413.981859</td>\n",
       "      <td>16655.999920</td>\n",
       "      <td>3404.555771</td>\n",
       "    </tr>\n",
       "    <tr>\n",
       "      <th>min</th>\n",
       "      <td>7600.000000</td>\n",
       "      <td>4000.000000</td>\n",
       "      <td>36700.000000</td>\n",
       "    </tr>\n",
       "    <tr>\n",
       "      <th>25%</th>\n",
       "      <td>19500.000000</td>\n",
       "      <td>8600.000000</td>\n",
       "      <td>39800.000000</td>\n",
       "    </tr>\n",
       "    <tr>\n",
       "      <th>50%</th>\n",
       "      <td>25400.000000</td>\n",
       "      <td>12300.000000</td>\n",
       "      <td>41800.000000</td>\n",
       "    </tr>\n",
       "    <tr>\n",
       "      <th>75%</th>\n",
       "      <td>47200.000000</td>\n",
       "      <td>29700.000000</td>\n",
       "      <td>44500.000000</td>\n",
       "    </tr>\n",
       "    <tr>\n",
       "      <th>max</th>\n",
       "      <td>77400.000000</td>\n",
       "      <td>59400.000000</td>\n",
       "      <td>48300.000000</td>\n",
       "    </tr>\n",
       "  </tbody>\n",
       "</table>\n",
       "</div>"
      ],
      "text/plain": [
       "               hare          lynx        carrot\n",
       "count     21.000000     21.000000     21.000000\n",
       "mean   34080.952381  20166.666667  42400.000000\n",
       "std    21413.981859  16655.999920   3404.555771\n",
       "min     7600.000000   4000.000000  36700.000000\n",
       "25%    19500.000000   8600.000000  39800.000000\n",
       "50%    25400.000000  12300.000000  41800.000000\n",
       "75%    47200.000000  29700.000000  44500.000000\n",
       "max    77400.000000  59400.000000  48300.000000"
      ]
     },
     "execution_count": 11,
     "metadata": {},
     "output_type": "execute_result"
    }
   ],
   "source": [
    "pop_df[[\"hare\",\"lynx\",\"carrot\"]].describe()"
   ]
  },
  {
   "cell_type": "code",
   "execution_count": 12,
   "metadata": {
    "collapsed": false
   },
   "outputs": [
    {
     "data": {
      "text/html": [
       "<div>\n",
       "<style scoped>\n",
       "    .dataframe tbody tr th:only-of-type {\n",
       "        vertical-align: middle;\n",
       "    }\n",
       "\n",
       "    .dataframe tbody tr th {\n",
       "        vertical-align: top;\n",
       "    }\n",
       "\n",
       "    .dataframe thead th {\n",
       "        text-align: right;\n",
       "    }\n",
       "</style>\n",
       "<table border=\"1\" class=\"dataframe\">\n",
       "  <thead>\n",
       "    <tr style=\"text-align: right;\">\n",
       "      <th></th>\n",
       "      <th>year</th>\n",
       "      <th>hare</th>\n",
       "      <th>lynx</th>\n",
       "      <th>carrot</th>\n",
       "    </tr>\n",
       "  </thead>\n",
       "  <tbody>\n",
       "    <tr>\n",
       "      <th>count</th>\n",
       "      <td>21.000000</td>\n",
       "      <td>21.000000</td>\n",
       "      <td>21.000000</td>\n",
       "      <td>21.000000</td>\n",
       "    </tr>\n",
       "    <tr>\n",
       "      <th>mean</th>\n",
       "      <td>1910.000000</td>\n",
       "      <td>34080.952381</td>\n",
       "      <td>20166.666667</td>\n",
       "      <td>42400.000000</td>\n",
       "    </tr>\n",
       "    <tr>\n",
       "      <th>std</th>\n",
       "      <td>6.204837</td>\n",
       "      <td>21413.981859</td>\n",
       "      <td>16655.999920</td>\n",
       "      <td>3404.555771</td>\n",
       "    </tr>\n",
       "    <tr>\n",
       "      <th>min</th>\n",
       "      <td>1900.000000</td>\n",
       "      <td>7600.000000</td>\n",
       "      <td>4000.000000</td>\n",
       "      <td>36700.000000</td>\n",
       "    </tr>\n",
       "    <tr>\n",
       "      <th>25%</th>\n",
       "      <td>1905.000000</td>\n",
       "      <td>19500.000000</td>\n",
       "      <td>8600.000000</td>\n",
       "      <td>39800.000000</td>\n",
       "    </tr>\n",
       "    <tr>\n",
       "      <th>50%</th>\n",
       "      <td>1910.000000</td>\n",
       "      <td>25400.000000</td>\n",
       "      <td>12300.000000</td>\n",
       "      <td>41800.000000</td>\n",
       "    </tr>\n",
       "    <tr>\n",
       "      <th>75%</th>\n",
       "      <td>1915.000000</td>\n",
       "      <td>47200.000000</td>\n",
       "      <td>29700.000000</td>\n",
       "      <td>44500.000000</td>\n",
       "    </tr>\n",
       "    <tr>\n",
       "      <th>max</th>\n",
       "      <td>1920.000000</td>\n",
       "      <td>77400.000000</td>\n",
       "      <td>59400.000000</td>\n",
       "      <td>48300.000000</td>\n",
       "    </tr>\n",
       "  </tbody>\n",
       "</table>\n",
       "</div>"
      ],
      "text/plain": [
       "              year          hare          lynx        carrot\n",
       "count    21.000000     21.000000     21.000000     21.000000\n",
       "mean   1910.000000  34080.952381  20166.666667  42400.000000\n",
       "std       6.204837  21413.981859  16655.999920   3404.555771\n",
       "min    1900.000000   7600.000000   4000.000000  36700.000000\n",
       "25%    1905.000000  19500.000000   8600.000000  39800.000000\n",
       "50%    1910.000000  25400.000000  12300.000000  41800.000000\n",
       "75%    1915.000000  47200.000000  29700.000000  44500.000000\n",
       "max    1920.000000  77400.000000  59400.000000  48300.000000"
      ]
     },
     "execution_count": 12,
     "metadata": {},
     "output_type": "execute_result"
    }
   ],
   "source": [
    "pop_df.describe()"
   ]
  },
  {
   "cell_type": "markdown",
   "metadata": {},
   "source": [
    "A better way to do correlation analysis:"
   ]
  },
  {
   "cell_type": "code",
   "execution_count": 13,
   "metadata": {
    "collapsed": false
   },
   "outputs": [
    {
     "data": {
      "text/html": [
       "<div>\n",
       "<style scoped>\n",
       "    .dataframe tbody tr th:only-of-type {\n",
       "        vertical-align: middle;\n",
       "    }\n",
       "\n",
       "    .dataframe tbody tr th {\n",
       "        vertical-align: top;\n",
       "    }\n",
       "\n",
       "    .dataframe thead th {\n",
       "        text-align: right;\n",
       "    }\n",
       "</style>\n",
       "<table border=\"1\" class=\"dataframe\">\n",
       "  <thead>\n",
       "    <tr style=\"text-align: right;\">\n",
       "      <th></th>\n",
       "      <th>hare</th>\n",
       "      <th>lynx</th>\n",
       "      <th>carrot</th>\n",
       "    </tr>\n",
       "  </thead>\n",
       "  <tbody>\n",
       "    <tr>\n",
       "      <th>hare</th>\n",
       "      <td>1.000000</td>\n",
       "      <td>0.071892</td>\n",
       "      <td>-0.016604</td>\n",
       "    </tr>\n",
       "    <tr>\n",
       "      <th>lynx</th>\n",
       "      <td>0.071892</td>\n",
       "      <td>1.000000</td>\n",
       "      <td>-0.680577</td>\n",
       "    </tr>\n",
       "    <tr>\n",
       "      <th>carrot</th>\n",
       "      <td>-0.016604</td>\n",
       "      <td>-0.680577</td>\n",
       "      <td>1.000000</td>\n",
       "    </tr>\n",
       "  </tbody>\n",
       "</table>\n",
       "</div>"
      ],
      "text/plain": [
       "            hare      lynx    carrot\n",
       "hare    1.000000  0.071892 -0.016604\n",
       "lynx    0.071892  1.000000 -0.680577\n",
       "carrot -0.016604 -0.680577  1.000000"
      ]
     },
     "execution_count": 13,
     "metadata": {},
     "output_type": "execute_result"
    }
   ],
   "source": [
    "pop_df[[\"hare\",\"lynx\",\"carrot\"]].corr()"
   ]
  },
  {
   "cell_type": "markdown",
   "metadata": {},
   "source": [
    "Also sorting is done easily:"
   ]
  },
  {
   "cell_type": "code",
   "execution_count": 14,
   "metadata": {
    "collapsed": false
   },
   "outputs": [
    {
     "data": {
      "text/html": [
       "<div>\n",
       "<style scoped>\n",
       "    .dataframe tbody tr th:only-of-type {\n",
       "        vertical-align: middle;\n",
       "    }\n",
       "\n",
       "    .dataframe tbody tr th {\n",
       "        vertical-align: top;\n",
       "    }\n",
       "\n",
       "    .dataframe thead th {\n",
       "        text-align: right;\n",
       "    }\n",
       "</style>\n",
       "<table border=\"1\" class=\"dataframe\">\n",
       "  <thead>\n",
       "    <tr style=\"text-align: right;\">\n",
       "      <th></th>\n",
       "      <th>year</th>\n",
       "      <th>hare</th>\n",
       "      <th>lynx</th>\n",
       "      <th>carrot</th>\n",
       "    </tr>\n",
       "  </thead>\n",
       "  <tbody>\n",
       "    <tr>\n",
       "      <th>17</th>\n",
       "      <td>1917</td>\n",
       "      <td>7600.0</td>\n",
       "      <td>15800.0</td>\n",
       "      <td>41800</td>\n",
       "    </tr>\n",
       "    <tr>\n",
       "      <th>16</th>\n",
       "      <td>1916</td>\n",
       "      <td>11200.0</td>\n",
       "      <td>29700.0</td>\n",
       "      <td>36700</td>\n",
       "    </tr>\n",
       "    <tr>\n",
       "      <th>18</th>\n",
       "      <td>1918</td>\n",
       "      <td>14600.0</td>\n",
       "      <td>9700.0</td>\n",
       "      <td>43300</td>\n",
       "    </tr>\n",
       "    <tr>\n",
       "      <th>19</th>\n",
       "      <td>1919</td>\n",
       "      <td>16200.0</td>\n",
       "      <td>10100.0</td>\n",
       "      <td>41300</td>\n",
       "    </tr>\n",
       "    <tr>\n",
       "      <th>6</th>\n",
       "      <td>1906</td>\n",
       "      <td>18100.0</td>\n",
       "      <td>19000.0</td>\n",
       "      <td>38600</td>\n",
       "    </tr>\n",
       "    <tr>\n",
       "      <th>15</th>\n",
       "      <td>1915</td>\n",
       "      <td>19500.0</td>\n",
       "      <td>51100.0</td>\n",
       "      <td>39000</td>\n",
       "    </tr>\n",
       "    <tr>\n",
       "      <th>5</th>\n",
       "      <td>1905</td>\n",
       "      <td>20600.0</td>\n",
       "      <td>41700.0</td>\n",
       "      <td>39800</td>\n",
       "    </tr>\n",
       "    <tr>\n",
       "      <th>7</th>\n",
       "      <td>1907</td>\n",
       "      <td>21400.0</td>\n",
       "      <td>13000.0</td>\n",
       "      <td>42300</td>\n",
       "    </tr>\n",
       "    <tr>\n",
       "      <th>8</th>\n",
       "      <td>1908</td>\n",
       "      <td>22000.0</td>\n",
       "      <td>8300.0</td>\n",
       "      <td>44500</td>\n",
       "    </tr>\n",
       "    <tr>\n",
       "      <th>20</th>\n",
       "      <td>1920</td>\n",
       "      <td>24700.0</td>\n",
       "      <td>8600.0</td>\n",
       "      <td>47300</td>\n",
       "    </tr>\n",
       "    <tr>\n",
       "      <th>9</th>\n",
       "      <td>1909</td>\n",
       "      <td>25400.0</td>\n",
       "      <td>9100.0</td>\n",
       "      <td>42100</td>\n",
       "    </tr>\n",
       "    <tr>\n",
       "      <th>10</th>\n",
       "      <td>1910</td>\n",
       "      <td>27100.0</td>\n",
       "      <td>7400.0</td>\n",
       "      <td>46000</td>\n",
       "    </tr>\n",
       "    <tr>\n",
       "      <th>0</th>\n",
       "      <td>1900</td>\n",
       "      <td>30000.0</td>\n",
       "      <td>4000.0</td>\n",
       "      <td>48300</td>\n",
       "    </tr>\n",
       "    <tr>\n",
       "      <th>4</th>\n",
       "      <td>1904</td>\n",
       "      <td>36300.0</td>\n",
       "      <td>59400.0</td>\n",
       "      <td>40600</td>\n",
       "    </tr>\n",
       "    <tr>\n",
       "      <th>11</th>\n",
       "      <td>1911</td>\n",
       "      <td>40300.0</td>\n",
       "      <td>8000.0</td>\n",
       "      <td>46800</td>\n",
       "    </tr>\n",
       "    <tr>\n",
       "      <th>1</th>\n",
       "      <td>1901</td>\n",
       "      <td>47200.0</td>\n",
       "      <td>6100.0</td>\n",
       "      <td>48200</td>\n",
       "    </tr>\n",
       "    <tr>\n",
       "      <th>14</th>\n",
       "      <td>1914</td>\n",
       "      <td>52300.0</td>\n",
       "      <td>45700.0</td>\n",
       "      <td>39400</td>\n",
       "    </tr>\n",
       "    <tr>\n",
       "      <th>12</th>\n",
       "      <td>1912</td>\n",
       "      <td>57000.0</td>\n",
       "      <td>12300.0</td>\n",
       "      <td>43800</td>\n",
       "    </tr>\n",
       "    <tr>\n",
       "      <th>2</th>\n",
       "      <td>1902</td>\n",
       "      <td>70200.0</td>\n",
       "      <td>9800.0</td>\n",
       "      <td>41500</td>\n",
       "    </tr>\n",
       "    <tr>\n",
       "      <th>13</th>\n",
       "      <td>1913</td>\n",
       "      <td>76600.0</td>\n",
       "      <td>19500.0</td>\n",
       "      <td>40900</td>\n",
       "    </tr>\n",
       "    <tr>\n",
       "      <th>3</th>\n",
       "      <td>1903</td>\n",
       "      <td>77400.0</td>\n",
       "      <td>35200.0</td>\n",
       "      <td>38200</td>\n",
       "    </tr>\n",
       "  </tbody>\n",
       "</table>\n",
       "</div>"
      ],
      "text/plain": [
       "    year     hare     lynx  carrot\n",
       "17  1917   7600.0  15800.0   41800\n",
       "16  1916  11200.0  29700.0   36700\n",
       "18  1918  14600.0   9700.0   43300\n",
       "19  1919  16200.0  10100.0   41300\n",
       "6   1906  18100.0  19000.0   38600\n",
       "15  1915  19500.0  51100.0   39000\n",
       "5   1905  20600.0  41700.0   39800\n",
       "7   1907  21400.0  13000.0   42300\n",
       "8   1908  22000.0   8300.0   44500\n",
       "20  1920  24700.0   8600.0   47300\n",
       "9   1909  25400.0   9100.0   42100\n",
       "10  1910  27100.0   7400.0   46000\n",
       "0   1900  30000.0   4000.0   48300\n",
       "4   1904  36300.0  59400.0   40600\n",
       "11  1911  40300.0   8000.0   46800\n",
       "1   1901  47200.0   6100.0   48200\n",
       "14  1914  52300.0  45700.0   39400\n",
       "12  1912  57000.0  12300.0   43800\n",
       "2   1902  70200.0   9800.0   41500\n",
       "13  1913  76600.0  19500.0   40900\n",
       "3   1903  77400.0  35200.0   38200"
      ]
     },
     "execution_count": 14,
     "metadata": {},
     "output_type": "execute_result"
    }
   ],
   "source": [
    "pop_df.sort_values(by=['hare'])"
   ]
  },
  {
   "cell_type": "markdown",
   "metadata": {},
   "source": [
    "More examples of accessing and manipulating data in dataframes:"
   ]
  },
  {
   "cell_type": "code",
   "execution_count": 15,
   "metadata": {
    "collapsed": false
   },
   "outputs": [
    {
     "name": "stdout",
     "output_type": "stream",
     "text": [
      "0     False\n",
      "1     False\n",
      "2      True\n",
      "3      True\n",
      "4     False\n",
      "5     False\n",
      "6     False\n",
      "7     False\n",
      "8     False\n",
      "9     False\n",
      "10    False\n",
      "11    False\n",
      "12     True\n",
      "13     True\n",
      "14     True\n",
      "15    False\n",
      "16    False\n",
      "17    False\n",
      "18    False\n",
      "19    False\n",
      "20    False\n",
      "Name: hare, dtype: bool\n",
      "\n",
      "\n",
      "    year     hare     lynx  carrot\n",
      "2   1902  70200.0   9800.0   41500\n",
      "3   1903  77400.0  35200.0   38200\n",
      "12  1912  57000.0  12300.0   43800\n",
      "13  1913  76600.0  19500.0   40900\n",
      "14  1914  52300.0  45700.0   39400\n",
      "\n",
      "\n",
      "2     1902\n",
      "3     1903\n",
      "12    1912\n",
      "13    1913\n",
      "14    1914\n",
      "Name: year, dtype: int64\n"
     ]
    }
   ],
   "source": [
    "# finding all instances when the population of hares is above 50k\n",
    "hare_above_50K = pop_df.hare>50000\n",
    "print (hare_above_50K)\n",
    "print (\"\\n\")\n",
    "print (pop_df[hare_above_50K])\n",
    "print (\"\\n\")\n",
    "print (pop_df[hare_above_50K].year)"
   ]
  },
  {
   "cell_type": "code",
   "execution_count": 16,
   "metadata": {
    "collapsed": false
   },
   "outputs": [
    {
     "name": "stdout",
     "output_type": "stream",
     "text": [
      "    year     hare     lynx  carrot\n",
      "2   1902  70200.0   9800.0   41500\n",
      "3   1903  77400.0  35200.0   38200\n",
      "4   1904  36300.0  59400.0   40600\n",
      "12  1912  57000.0  12300.0   43800\n",
      "13  1913  76600.0  19500.0   40900\n",
      "14  1914  52300.0  45700.0   39400\n",
      "15  1915  19500.0  51100.0   39000\n"
     ]
    }
   ],
   "source": [
    "# finding all instances when the population of one of the animal species is above 50k\n",
    "above_50K = (pop_df[\"hare\"]>50000) | (pop_df[\"lynx\"]>50000)\n",
    "print (pop_df[above_50K])\n",
    "#print pop_df[hare_above_50K].year"
   ]
  },
  {
   "cell_type": "markdown",
   "metadata": {},
   "source": [
    "We know that the *year* column is only an identifier, so we may not need it in the analysis."
   ]
  },
  {
   "cell_type": "code",
   "execution_count": 17,
   "metadata": {
    "collapsed": false
   },
   "outputs": [
    {
     "data": {
      "text/html": [
       "<div>\n",
       "<style scoped>\n",
       "    .dataframe tbody tr th:only-of-type {\n",
       "        vertical-align: middle;\n",
       "    }\n",
       "\n",
       "    .dataframe tbody tr th {\n",
       "        vertical-align: top;\n",
       "    }\n",
       "\n",
       "    .dataframe thead th {\n",
       "        text-align: right;\n",
       "    }\n",
       "</style>\n",
       "<table border=\"1\" class=\"dataframe\">\n",
       "  <thead>\n",
       "    <tr style=\"text-align: right;\">\n",
       "      <th></th>\n",
       "      <th>hare</th>\n",
       "      <th>lynx</th>\n",
       "      <th>carrot</th>\n",
       "    </tr>\n",
       "  </thead>\n",
       "  <tbody>\n",
       "    <tr>\n",
       "      <th>0</th>\n",
       "      <td>30000.0</td>\n",
       "      <td>4000.0</td>\n",
       "      <td>48300</td>\n",
       "    </tr>\n",
       "    <tr>\n",
       "      <th>1</th>\n",
       "      <td>47200.0</td>\n",
       "      <td>6100.0</td>\n",
       "      <td>48200</td>\n",
       "    </tr>\n",
       "    <tr>\n",
       "      <th>2</th>\n",
       "      <td>70200.0</td>\n",
       "      <td>9800.0</td>\n",
       "      <td>41500</td>\n",
       "    </tr>\n",
       "    <tr>\n",
       "      <th>3</th>\n",
       "      <td>77400.0</td>\n",
       "      <td>35200.0</td>\n",
       "      <td>38200</td>\n",
       "    </tr>\n",
       "    <tr>\n",
       "      <th>4</th>\n",
       "      <td>36300.0</td>\n",
       "      <td>59400.0</td>\n",
       "      <td>40600</td>\n",
       "    </tr>\n",
       "    <tr>\n",
       "      <th>5</th>\n",
       "      <td>20600.0</td>\n",
       "      <td>41700.0</td>\n",
       "      <td>39800</td>\n",
       "    </tr>\n",
       "    <tr>\n",
       "      <th>6</th>\n",
       "      <td>18100.0</td>\n",
       "      <td>19000.0</td>\n",
       "      <td>38600</td>\n",
       "    </tr>\n",
       "    <tr>\n",
       "      <th>7</th>\n",
       "      <td>21400.0</td>\n",
       "      <td>13000.0</td>\n",
       "      <td>42300</td>\n",
       "    </tr>\n",
       "    <tr>\n",
       "      <th>8</th>\n",
       "      <td>22000.0</td>\n",
       "      <td>8300.0</td>\n",
       "      <td>44500</td>\n",
       "    </tr>\n",
       "    <tr>\n",
       "      <th>9</th>\n",
       "      <td>25400.0</td>\n",
       "      <td>9100.0</td>\n",
       "      <td>42100</td>\n",
       "    </tr>\n",
       "    <tr>\n",
       "      <th>10</th>\n",
       "      <td>27100.0</td>\n",
       "      <td>7400.0</td>\n",
       "      <td>46000</td>\n",
       "    </tr>\n",
       "    <tr>\n",
       "      <th>11</th>\n",
       "      <td>40300.0</td>\n",
       "      <td>8000.0</td>\n",
       "      <td>46800</td>\n",
       "    </tr>\n",
       "    <tr>\n",
       "      <th>12</th>\n",
       "      <td>57000.0</td>\n",
       "      <td>12300.0</td>\n",
       "      <td>43800</td>\n",
       "    </tr>\n",
       "    <tr>\n",
       "      <th>13</th>\n",
       "      <td>76600.0</td>\n",
       "      <td>19500.0</td>\n",
       "      <td>40900</td>\n",
       "    </tr>\n",
       "    <tr>\n",
       "      <th>14</th>\n",
       "      <td>52300.0</td>\n",
       "      <td>45700.0</td>\n",
       "      <td>39400</td>\n",
       "    </tr>\n",
       "    <tr>\n",
       "      <th>15</th>\n",
       "      <td>19500.0</td>\n",
       "      <td>51100.0</td>\n",
       "      <td>39000</td>\n",
       "    </tr>\n",
       "    <tr>\n",
       "      <th>16</th>\n",
       "      <td>11200.0</td>\n",
       "      <td>29700.0</td>\n",
       "      <td>36700</td>\n",
       "    </tr>\n",
       "    <tr>\n",
       "      <th>17</th>\n",
       "      <td>7600.0</td>\n",
       "      <td>15800.0</td>\n",
       "      <td>41800</td>\n",
       "    </tr>\n",
       "    <tr>\n",
       "      <th>18</th>\n",
       "      <td>14600.0</td>\n",
       "      <td>9700.0</td>\n",
       "      <td>43300</td>\n",
       "    </tr>\n",
       "    <tr>\n",
       "      <th>19</th>\n",
       "      <td>16200.0</td>\n",
       "      <td>10100.0</td>\n",
       "      <td>41300</td>\n",
       "    </tr>\n",
       "    <tr>\n",
       "      <th>20</th>\n",
       "      <td>24700.0</td>\n",
       "      <td>8600.0</td>\n",
       "      <td>47300</td>\n",
       "    </tr>\n",
       "  </tbody>\n",
       "</table>\n",
       "</div>"
      ],
      "text/plain": [
       "       hare     lynx  carrot\n",
       "0   30000.0   4000.0   48300\n",
       "1   47200.0   6100.0   48200\n",
       "2   70200.0   9800.0   41500\n",
       "3   77400.0  35200.0   38200\n",
       "4   36300.0  59400.0   40600\n",
       "5   20600.0  41700.0   39800\n",
       "6   18100.0  19000.0   38600\n",
       "7   21400.0  13000.0   42300\n",
       "8   22000.0   8300.0   44500\n",
       "9   25400.0   9100.0   42100\n",
       "10  27100.0   7400.0   46000\n",
       "11  40300.0   8000.0   46800\n",
       "12  57000.0  12300.0   43800\n",
       "13  76600.0  19500.0   40900\n",
       "14  52300.0  45700.0   39400\n",
       "15  19500.0  51100.0   39000\n",
       "16  11200.0  29700.0   36700\n",
       "17   7600.0  15800.0   41800\n",
       "18  14600.0   9700.0   43300\n",
       "19  16200.0  10100.0   41300\n",
       "20  24700.0   8600.0   47300"
      ]
     },
     "execution_count": 17,
     "metadata": {},
     "output_type": "execute_result"
    }
   ],
   "source": [
    "pop2 = pop_df.drop(\"year\", axis=1)\n",
    "pop2"
   ]
  },
  {
   "cell_type": "markdown",
   "metadata": {},
   "source": [
    "When necessary, we can convert a dataframe (or a series) into a Numpy array:"
   ]
  },
  {
   "cell_type": "code",
   "execution_count": 18,
   "metadata": {
    "collapsed": false
   },
   "outputs": [
    {
     "data": {
      "text/plain": [
       "array([[30000.,  4000., 48300.],\n",
       "       [47200.,  6100., 48200.],\n",
       "       [70200.,  9800., 41500.],\n",
       "       [77400., 35200., 38200.],\n",
       "       [36300., 59400., 40600.],\n",
       "       [20600., 41700., 39800.],\n",
       "       [18100., 19000., 38600.],\n",
       "       [21400., 13000., 42300.],\n",
       "       [22000.,  8300., 44500.],\n",
       "       [25400.,  9100., 42100.],\n",
       "       [27100.,  7400., 46000.],\n",
       "       [40300.,  8000., 46800.],\n",
       "       [57000., 12300., 43800.],\n",
       "       [76600., 19500., 40900.],\n",
       "       [52300., 45700., 39400.],\n",
       "       [19500., 51100., 39000.],\n",
       "       [11200., 29700., 36700.],\n",
       "       [ 7600., 15800., 41800.],\n",
       "       [14600.,  9700., 43300.],\n",
       "       [16200., 10100., 41300.],\n",
       "       [24700.,  8600., 47300.]])"
      ]
     },
     "execution_count": 18,
     "metadata": {},
     "output_type": "execute_result"
    }
   ],
   "source": [
    "poptable = np.array(pop2)\n",
    "poptable"
   ]
  },
  {
   "cell_type": "markdown",
   "metadata": {},
   "source": [
    "# Data Visualization"
   ]
  },
  {
   "cell_type": "code",
   "execution_count": 19,
   "metadata": {
    "collapsed": true
   },
   "outputs": [],
   "source": [
    "%matplotlib inline\n",
    "import matplotlib.pyplot as plt\n",
    "plt.style.use('ggplot')"
   ]
  },
  {
   "cell_type": "code",
   "execution_count": 20,
   "metadata": {
    "collapsed": false
   },
   "outputs": [
    {
     "data": {
      "text/plain": [
       "[<matplotlib.lines.Line2D at 0x7fc4c28fc9b0>]"
      ]
     },
     "execution_count": 20,
     "metadata": {},
     "output_type": "execute_result"
    },
    {
     "data": {
      "image/png": "[encoded data removed]",
      "text/plain": [
       "<Figure size 432x288 with 1 Axes>"
      ]
     },
     "metadata": {},
     "output_type": "display_data"
    }
   ],
   "source": [
    "plt.plot(pop_df[\"year\"], pop_df[\"hare\"])"
   ]
  },
  {
   "cell_type": "markdown",
   "metadata": {},
   "source": [
    "We can also visualize multiple variables/features in one figure. \n",
    "\n",
    "But you need to make sure:\n",
    "- All data visualized in the same figure should be of the same data type (e.g. you cannot mix continuous and categorical data types in the same figure);\n",
    "- You do not want your visualization to be too busy - below is a good example - but it is **highly discouraged** to include more than **5** variables/features in the same figure."
   ]
  },
  {
   "cell_type": "code",
   "execution_count": 21,
   "metadata": {
    "collapsed": false
   },
   "outputs": [
    {
     "data": {
      "image/png": "[encoded data removed]",
      "text/plain": [
       "<Figure size 432x288 with 1 Axes>"
      ]
     },
     "metadata": {},
     "output_type": "display_data"
    }
   ],
   "source": [
    "plt.plot(pop_df[\"year\"], pop2, label=['Hares','Lynxes','Carrots'])\n",
    "plt.legend( ('Hares','Lynxes','Carrots') )\n",
    "plt.ylabel('Population')\n",
    "plt.xlabel('Year')\n",
    "plt.show()"
   ]
  },
  {
   "cell_type": "markdown",
   "metadata": {},
   "source": [
    "Line charts look good at visualizing **continuous** variables (particularly when they are time series like what we have here); but they are not useful when dealing with **categorical** variables. \n",
    "\n",
    "Below is a way of dealing with **categorical** variables."
   ]
  },
  {
   "cell_type": "code",
   "execution_count": 22,
   "metadata": {
    "collapsed": false
   },
   "outputs": [
    {
     "data": {
      "text/plain": [
       "[36000, 49000, 0, 6]"
      ]
     },
     "execution_count": 22,
     "metadata": {},
     "output_type": "execute_result"
    },
    {
     "data": {
      "image/png": "[encoded data removed]",
      "text/plain": [
       "<Figure size 432x288 with 1 Axes>"
      ]
     },
     "metadata": {},
     "output_type": "display_data"
    }
   ],
   "source": [
    "plt.hist(pop_df[\"carrot\"], bins=8, alpha=0.5)\n",
    "plt.xlabel('Carrots')\n",
    "plt.ylabel('Count')\n",
    "plt.title('Histogram of Carrot Populaions')\n",
    "plt.axis([36000, 49000, 0, 6])\n",
    "#plt.grid(True)"
   ]
  },
  {
   "cell_type": "markdown",
   "metadata": {},
   "source": [
    "Pandas has its own versatile \"plot\" method that can handle most types of charts:"
   ]
  },
  {
   "cell_type": "code",
   "execution_count": 23,
   "metadata": {
    "collapsed": false
   },
   "outputs": [
    {
     "data": {
      "text/plain": [
       "<matplotlib.axes._subplots.AxesSubplot at 0x7fc4c278d898>"
      ]
     },
     "execution_count": 23,
     "metadata": {},
     "output_type": "execute_result"
    },
    {
     "data": {
      "image/png": "[encoded data removed]",
      "text/plain": [
       "<Figure size 432x288 with 1 Axes>"
      ]
     },
     "metadata": {},
     "output_type": "display_data"
    }
   ],
   "source": [
    "pop_df.plot(x=\"year\", title=\"Populations\")"
   ]
  },
  {
   "cell_type": "markdown",
   "metadata": {},
   "source": [
    "When we want to investigate the cross-variable relationship, we can use **scatterplot** as following."
   ]
  },
  {
   "cell_type": "code",
   "execution_count": 24,
   "metadata": {
    "collapsed": false
   },
   "outputs": [
    {
     "data": {
      "text/plain": [
       "<matplotlib.axes._subplots.AxesSubplot at 0x7fc4c2699908>"
      ]
     },
     "execution_count": 24,
     "metadata": {},
     "output_type": "execute_result"
    },
    {
     "data": {
      "image/png": "[encoded data removed]",
      "text/plain": [
       "<Figure size 432x288 with 1 Axes>"
      ]
     },
     "metadata": {},
     "output_type": "display_data"
    }
   ],
   "source": [
    "pop_df.plot(x=\"carrot\", y=\"lynx\", kind=\"scatter\")"
   ]
  },
  {
   "cell_type": "markdown",
   "metadata": {},
   "source": [
    "## YOUR TURN HERE\n",
    "\n",
    "Q: Can you explain the relationship between 'lynx' and 'carrot'? Do they have any linear relationship?\n",
    "\n",
    "A: Double click this cell and enter your answer here."
   ]
  },
  {
   "cell_type": "markdown",
   "metadata": {},
   "source": [
    "Boxplot is another visualization tool when investigating the distribution of continuous variables. In a boxplot:\n",
    "- the box is the **confidence interval** of the values of a certain variable;\n",
    "- the attenas (above and below the box) are the **actual range (min. to max.)**;\n",
    "- the line in the box is the **mean (average) value** of the variable.\n",
    "\n",
    "You can use the boxplot to investigate the distribution of the variable - this is the same as checking the 'bell curve' in the distribution chart. For instance, in the chart below, both 'hare' and 'lynx' are right-skewed, while 'carrot' is in a normal (but narrow) distribution."
   ]
  },
  {
   "cell_type": "code",
   "execution_count": null,
   "metadata": {
    "collapsed": false
   },
   "outputs": [],
   "source": [
    "pop_df.boxplot(column=[\"hare\",\"lynx\",\"carrot\"], return_type='axes')"
   ]
  },
  {
   "cell_type": "code",
   "execution_count": null,
   "metadata": {
    "collapsed": false
   },
   "outputs": [],
   "source": [
    "fox_col = np.random.randint(low=5000, high=20000, size=21)\n",
    "fox_col"
   ]
  },
  {
   "cell_type": "code",
   "execution_count": null,
   "metadata": {
    "collapsed": false
   },
   "outputs": [],
   "source": [
    "pop_df[\"fox\"] = pd.Series(fox_col, index=pop_df.index)\n",
    "pop_df"
   ]
  },
  {
   "cell_type": "code",
   "execution_count": null,
   "metadata": {
    "collapsed": false
   },
   "outputs": [],
   "source": [
    "pop_df.plot(x=\"year\", y=\"fox\", kind=\"area\", title=\"Fox Population\")"
   ]
  },
  {
   "cell_type": "code",
   "execution_count": null,
   "metadata": {
    "collapsed": false
   },
   "outputs": [],
   "source": [
    "pd.plotting.scatter_matrix(pop_df[[\"hare\",\"lynx\",\"carrot\"]], figsize=(14,14), hist_kwds={'bins':8}, alpha=.5, marker='o', s=50)"
   ]
  },
  {
   "cell_type": "code",
   "execution_count": null,
   "metadata": {
    "collapsed": true
   },
   "outputs": [],
   "source": []
  }
 ],
 "metadata": {
  "kernelspec": {
   "display_name": "Python 3",
   "language": "python",
   "name": "python3"
  },
  "language_info": {
   "codemirror_mode": {
    "name": "ipython",
    "version": 3
   },
   "file_extension": ".py",
   "mimetype": "text/x-python",
   "name": "python",
   "nbconvert_exporter": "python",
   "pygments_lexer": "ipython3",
   "version": "3.6.5"
  }
 },
 "nbformat": 4,
 "nbformat_minor": 2
}
